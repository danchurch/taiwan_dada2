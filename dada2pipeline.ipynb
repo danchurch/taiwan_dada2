{
 "cells": [
  {
   "cell_type": "markdown",
   "metadata": {},
   "source": [
    "<h1> dada2 pipeline for Taiwan reads</h1>\n",
    "\n",
    "We're using the <a href='https://www.bioconductor.org/packages/release/bioc/html/dada2.html'>dada2</a> pipeline here. I'll try following [this tutorial](http://benjjneb.github.io/dada2/tutorial.html) Let's dive in. "
   ]
  },
  {
   "cell_type": "markdown",
   "metadata": {},
   "source": [
    "<a id='contents'></a>\n",
    "\n",
    "[Work Environment](#installpackages)\n",
    "\n",
    "[Getting reads ready for dada2](#prepReads)"
   ]
  },
  {
   "cell_type": "code",
   "execution_count": null,
   "metadata": {},
   "outputs": [],
   "source": []
  },
  {
   "cell_type": "markdown",
   "metadata": {},
   "source": [
    "<a id='installpackages'></a>\n",
    "<h1>Work Environment</h1>\n"
   ]
  },
  {
   "cell_type": "markdown",
   "metadata": {},
   "source": [
    "<h3>dada2</h3>"
   ]
  },
  {
   "cell_type": "code",
   "execution_count": 1,
   "metadata": {
    "scrolled": false
   },
   "outputs": [
    {
     "name": "stderr",
     "output_type": "stream",
     "text": [
      "Bioconductor version 3.6 (BiocInstaller 1.28.0), ?biocLite for help\n"
     ]
    }
   ],
   "source": [
    "source(\"https://bioconductor.org/biocLite.R\")"
   ]
  },
  {
   "cell_type": "code",
   "execution_count": 9,
   "metadata": {
    "collapsed": true
   },
   "outputs": [
    {
     "name": "stderr",
     "output_type": "stream",
     "text": [
      "BioC_mirror: https://bioconductor.org\n",
      "Using Bioconductor 3.6 (BiocInstaller 1.28.0), R 3.4.3 (2017-11-30).\n",
      "Installing package(s) ‘dada2’\n",
      "Warning message in install.packages(pkgs = doing, lib = lib, ...):\n",
      "“installation of package ‘dada2’ had non-zero exit status”installation path not writeable, unable to update packages: codetools, lattice,\n",
      "  spatial\n",
      "Old packages: 'Matrix'\n"
     ]
    }
   ],
   "source": [
    "biocLite(\"dada2\")"
   ]
  },
  {
   "cell_type": "code",
   "execution_count": 1,
   "metadata": {},
   "outputs": [
    {
     "name": "stderr",
     "output_type": "stream",
     "text": [
      "Loading required package: Rcpp\n"
     ]
    }
   ],
   "source": [
    "library(dada2)"
   ]
  },
  {
   "cell_type": "code",
   "execution_count": 11,
   "metadata": {
    "collapsed": true
   },
   "outputs": [
    {
     "name": "stderr",
     "output_type": "stream",
     "text": [
      "BioC_mirror: https://bioconductor.org\n",
      "Using Bioconductor 3.6 (BiocInstaller 1.28.0), R 3.4.3 (2017-11-30).\n",
      "installation path not writeable, unable to update packages: codetools, lattice,\n",
      "  spatial\n",
      "Updating packages 'Matrix'\n",
      "Warning message in install.packages(update[instlib == l, \"Package\"], l, contriburl = contriburl, :\n",
      "“installation of package ‘Matrix’ had non-zero exit status”Updating HTML index of packages in '.Library'\n",
      "Warning message in file.create(f.tg):\n",
      "“cannot create file '/usr/share/R/doc/html/packages.html', reason 'Permission denied'”Warning message in make.packages.html(.Library):\n",
      "“cannot update HTML package index”"
     ]
    }
   ],
   "source": [
    "biocLite(ask=FALSE)"
   ]
  },
  {
   "cell_type": "code",
   "execution_count": 13,
   "metadata": {
    "scrolled": false
   },
   "outputs": [
    {
     "data": {
      "text/html": [
       "TRUE"
      ],
      "text/latex": [
       "TRUE"
      ],
      "text/markdown": [
       "TRUE"
      ],
      "text/plain": [
       "[1] TRUE"
      ]
     },
     "metadata": {},
     "output_type": "display_data"
    }
   ],
   "source": [
    "biocValid() "
   ]
  },
  {
   "cell_type": "code",
   "execution_count": 2,
   "metadata": {
    "scrolled": true
   },
   "outputs": [
    {
     "data": {
      "text/plain": [
       "[1] ‘1.6.0’"
      ]
     },
     "metadata": {},
     "output_type": "display_data"
    }
   ],
   "source": [
    "packageVersion(\"dada2\")"
   ]
  },
  {
   "cell_type": "markdown",
   "metadata": {},
   "source": [
    "<h3>Set paths to reads</h3>\n",
    "\n",
    "We have separate directories for wood reads and leaf reads"
   ]
  },
  {
   "cell_type": "code",
   "execution_count": 3,
   "metadata": {},
   "outputs": [],
   "source": [
    "leafpath <- \"/home/daniel/Documents/taiwan/leafreads\""
   ]
  },
  {
   "cell_type": "code",
   "execution_count": 4,
   "metadata": {},
   "outputs": [],
   "source": [
    "woodpath <- \"/home/daniel/Documents/taiwan/woodreads\""
   ]
  },
  {
   "cell_type": "code",
   "execution_count": 5,
   "metadata": {
    "scrolled": true
   },
   "outputs": [
    {
     "data": {
      "text/html": [
       "<ol class=list-inline>\n",
       "\t<li>'lane1-s160-index-AAGCACTG-GTGATCCANNNN-Dc-X_S160_L001_R1_001.fastq'</li>\n",
       "\t<li>'lane1-s160-index-AAGCACTG-GTGATCCANNNN-Dc-X_S160_L001_R2_001.fastq'</li>\n",
       "\t<li>'lane1-s161-index-AAGCACTG-TTCGTACGNNNN-Dc-PosG_S161_L001_R1_001.fastq'</li>\n",
       "\t<li>'lane1-s161-index-AAGCACTG-TTCGTACGNNNN-Dc-PosG_S161_L001_R2_001.fastq'</li>\n",
       "\t<li>'lane1-s162-index-AAGCACTG-ATGACAGGNNNN-Dc-PosI_S162_L001_R1_001.fastq'</li>\n",
       "\t<li>'lane1-s162-index-AAGCACTG-ATGACAGGNNNN-Dc-PosI_S162_L001_R2_001.fastq'</li>\n",
       "</ol>\n"
      ],
      "text/latex": [
       "\\begin{enumerate*}\n",
       "\\item 'lane1-s160-index-AAGCACTG-GTGATCCANNNN-Dc-X\\_S160\\_L001\\_R1\\_001.fastq'\n",
       "\\item 'lane1-s160-index-AAGCACTG-GTGATCCANNNN-Dc-X\\_S160\\_L001\\_R2\\_001.fastq'\n",
       "\\item 'lane1-s161-index-AAGCACTG-TTCGTACGNNNN-Dc-PosG\\_S161\\_L001\\_R1\\_001.fastq'\n",
       "\\item 'lane1-s161-index-AAGCACTG-TTCGTACGNNNN-Dc-PosG\\_S161\\_L001\\_R2\\_001.fastq'\n",
       "\\item 'lane1-s162-index-AAGCACTG-ATGACAGGNNNN-Dc-PosI\\_S162\\_L001\\_R1\\_001.fastq'\n",
       "\\item 'lane1-s162-index-AAGCACTG-ATGACAGGNNNN-Dc-PosI\\_S162\\_L001\\_R2\\_001.fastq'\n",
       "\\end{enumerate*}\n"
      ],
      "text/markdown": [
       "1. 'lane1-s160-index-AAGCACTG-GTGATCCANNNN-Dc-X_S160_L001_R1_001.fastq'\n",
       "2. 'lane1-s160-index-AAGCACTG-GTGATCCANNNN-Dc-X_S160_L001_R2_001.fastq'\n",
       "3. 'lane1-s161-index-AAGCACTG-TTCGTACGNNNN-Dc-PosG_S161_L001_R1_001.fastq'\n",
       "4. 'lane1-s161-index-AAGCACTG-TTCGTACGNNNN-Dc-PosG_S161_L001_R2_001.fastq'\n",
       "5. 'lane1-s162-index-AAGCACTG-ATGACAGGNNNN-Dc-PosI_S162_L001_R1_001.fastq'\n",
       "6. 'lane1-s162-index-AAGCACTG-ATGACAGGNNNN-Dc-PosI_S162_L001_R2_001.fastq'\n",
       "\n",
       "\n"
      ],
      "text/plain": [
       "[1] \"lane1-s160-index-AAGCACTG-GTGATCCANNNN-Dc-X_S160_L001_R1_001.fastq\"   \n",
       "[2] \"lane1-s160-index-AAGCACTG-GTGATCCANNNN-Dc-X_S160_L001_R2_001.fastq\"   \n",
       "[3] \"lane1-s161-index-AAGCACTG-TTCGTACGNNNN-Dc-PosG_S161_L001_R1_001.fastq\"\n",
       "[4] \"lane1-s161-index-AAGCACTG-TTCGTACGNNNN-Dc-PosG_S161_L001_R2_001.fastq\"\n",
       "[5] \"lane1-s162-index-AAGCACTG-ATGACAGGNNNN-Dc-PosI_S162_L001_R1_001.fastq\"\n",
       "[6] \"lane1-s162-index-AAGCACTG-ATGACAGGNNNN-Dc-PosI_S162_L001_R2_001.fastq\""
      ]
     },
     "metadata": {},
     "output_type": "display_data"
    }
   ],
   "source": [
    "head(list.files(woodpath))"
   ]
  },
  {
   "cell_type": "markdown",
   "metadata": {},
   "source": [
    "<a id='prepReads'></a>\n",
    "<h1>Getting reads ready for dada2</h1>"
   ]
  },
  {
   "cell_type": "markdown",
   "metadata": {},
   "source": [
    "Before we begin the dada2 pipeline, we need to demultiplex our leaf reads, clean off primers and any other non-biological parts of our sequences, and make sure that forward and reverse reads are in the same order in the fastq files.  "
   ]
  },
  {
   "cell_type": "markdown",
   "metadata": {},
   "source": [
    "<h3>Demultiplexing</h3>"
   ]
  },
  {
   "cell_type": "markdown",
   "metadata": {},
   "source": [
    "Wood reads are demultiplexed, but for the leaves are not. They were labeled using split golay barcodes, so we need to reassemble these barcodes, for both the forward and reverse reads. I have a script for this. The latest version is in this repository, BCunsplit.py\n",
    "\n",
    "But, as I'm not much of a programmer, this script doesn't handle big read sets very well, somehow gets bogged down despite my effort to keep the entire files from being loaded into memory. So let's break up the leaf reads, apply the script, then reassemble. Most of this is in the shell, not R."
   ]
  },
  {
   "cell_type": "code",
   "execution_count": 1,
   "metadata": {
    "scrolled": true
   },
   "outputs": [
    {
     "name": "stdout",
     "output_type": "stream",
     "text": [
      "/home/daniel/Documents/taiwan/taiwan_dada2\n"
     ]
    }
   ],
   "source": [
    "pwd"
   ]
  },
  {
   "cell_type": "code",
   "execution_count": 8,
   "metadata": {},
   "outputs": [],
   "source": [
    "leafR1=/home/daniel/Documents/taiwan/leafreads/TaiwanFA_R1.fastq\n",
    "leafR2=/home/daniel/Documents/taiwan/leafreads/TaiwanFA_R2.fastq"
   ]
  },
  {
   "cell_type": "code",
   "execution_count": null,
   "metadata": {},
   "outputs": [],
   "source": [
    "## break up the fastq files, keep things in multiples of four...\n",
    "split -d -l 10000000 $leafR1 leafR1sub\n",
    "split -d -l 10000000 $leafR2 leafR2sub"
   ]
  },
  {
   "cell_type": "markdown",
   "metadata": {},
   "source": [
    "Now cycle through these, apply our script to each:"
   ]
  },
  {
   "cell_type": "code",
   "execution_count": 3,
   "metadata": {},
   "outputs": [
    {
     "name": "stdout",
     "output_type": "stream",
     "text": [
      "00\n",
      "01\n",
      "02\n",
      "03\n",
      "04\n",
      "05\n",
      "06\n",
      "07\n"
     ]
    }
   ],
   "source": [
    "nus=(00 01 02 03 04 05 06 07)\n",
    "for i in ${nus[*]}\n",
    "do\n",
    "../BCunsplit.py leafR2sub$i leafR1sub$i\n",
    "echo $i\n",
    "done"
   ]
  },
  {
   "cell_type": "markdown",
   "metadata": {},
   "source": [
    "Combine, take a look:"
   ]
  },
  {
   "cell_type": "code",
   "execution_count": 7,
   "metadata": {},
   "outputs": [],
   "source": [
    "cat rearranged_leafR1sub0* > rearranged_leafR1.fastq && cat rearranged_leafR2sub0* > rearranged_leafR2.fastq &"
   ]
  },
  {
   "cell_type": "code",
   "execution_count": 9,
   "metadata": {},
   "outputs": [
    {
     "name": "stdout",
     "output_type": "stream",
     "text": [
      "CACCTC CTTCCT CGTTAA CCTCCT CCACAT TCTCCA CCTCGC CCCCAT CCTGAT CACCTC\n",
      "CACCTC CTTCCT CGTTAA CCTCCT CCACAT TCTCCA CCTCGC CCCCAT CCTGAT CACCTC\n",
      "true\n"
     ]
    }
   ],
   "source": [
    "## take the first six BP of the first 10 reads from each, \n",
    "## check to see if they are the same\n",
    "aa=$(head -n 40 rearranged_leafR2.fastq | sed -n '2~4p' | cut -c -6)\n",
    "bb=$(head -n 40 $leafR2 | sed -n '2~4p' | cut -c -6)\n",
    "echo $aa\n",
    "echo $bb\n",
    "if [ \"$aa\" == \"$bb\" ]; then echo \"true\"; fi"
   ]
  },
  {
   "cell_type": "code",
   "execution_count": 10,
   "metadata": {},
   "outputs": [
    {
     "name": "stdout",
     "output_type": "stream",
     "text": [
      "AATGAG CCCCTT AATGAT TCGCCT CCGCAT CACCTC CCTCCT CCTCAT ATAATT CTTTTN\n",
      "AATGAG CCCCTT AATGAT TCGCCT CCGCAT CACCTC CCTCCT CCTCAT ATAATT CTTTTN\n",
      "true\n"
     ]
    }
   ],
   "source": [
    "## take the first six BP of the last 10 reads from each, \n",
    "## check to see if they are the same\n",
    "aa=$(tail -n 40 rearranged_leafR2.fastq | sed -n '2~4p' | cut -c -6)\n",
    "bb=$(tail -n 40 $leafR2 | sed -n '2~4p' | cut -c -6)\n",
    "echo $aa\n",
    "echo $bb\n",
    "if [ \"$aa\" == \"$bb\" ]; then echo \"true\"; fi"
   ]
  },
  {
   "cell_type": "markdown",
   "metadata": {},
   "source": [
    "<h3>Removing Primers</h3>"
   ]
  },
  {
   "cell_type": "code",
   "execution_count": null,
   "metadata": {},
   "outputs": [],
   "source": []
  },
  {
   "cell_type": "markdown",
   "metadata": {},
   "source": [
    "<h3>Order of reads</h3>"
   ]
  },
  {
   "cell_type": "code",
   "execution_count": null,
   "metadata": {},
   "outputs": [],
   "source": []
  }
 ],
 "metadata": {
  "kernelspec": {
   "display_name": "Bash",
   "language": "bash",
   "name": "bash"
  },
  "language_info": {
   "codemirror_mode": "shell",
   "file_extension": ".sh",
   "mimetype": "text/x-sh",
   "name": "bash"
  }
 },
 "nbformat": 4,
 "nbformat_minor": 2
}
